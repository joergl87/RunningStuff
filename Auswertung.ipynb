{
 "cells": [
  {
   "cell_type": "markdown",
   "metadata": {},
   "source": [
    "# Settings"
   ]
  },
  {
   "cell_type": "code",
   "execution_count": 3,
   "metadata": {},
   "outputs": [],
   "source": [
    "Grouping = 'Monat' # Alternativ Quartal\n",
    "Sport = 'Running'"
   ]
  },
  {
   "cell_type": "code",
   "execution_count": 4,
   "metadata": {},
   "outputs": [
    {
     "ename": "ValueError",
     "evalue": "arange: cannot compute length",
     "output_type": "error",
     "traceback": [
      "\u001b[1;31m---------------------------------------------------------------------------\u001b[0m",
      "\u001b[1;31mValueError\u001b[0m                                Traceback (most recent call last)",
      "\u001b[1;32mc:\\Users\\joerg\\dev\\RunningStuff\\Auswertung.ipynb Cell 3\u001b[0m line \u001b[0;36m6\n\u001b[0;32m     <a href='vscode-notebook-cell:/c%3A/Users/joerg/dev/RunningStuff/Auswertung.ipynb#W0sZmlsZQ%3D%3D?line=58'>59</a>\u001b[0m df[\u001b[39m'\u001b[39m\u001b[39mAvgSpeed\u001b[39m\u001b[39m'\u001b[39m] \u001b[39m=\u001b[39m (\u001b[39m1\u001b[39m\u001b[39m/\u001b[39mdf[\u001b[39m'\u001b[39m\u001b[39mAvgSpeed\u001b[39m\u001b[39m'\u001b[39m]) \u001b[39m*\u001b[39m (\u001b[39m1000\u001b[39m\u001b[39m/\u001b[39m\u001b[39m60\u001b[39m)\n\u001b[0;32m     <a href='vscode-notebook-cell:/c%3A/Users/joerg/dev/RunningStuff/Auswertung.ipynb#W0sZmlsZQ%3D%3D?line=59'>60</a>\u001b[0m bin_width \u001b[39m=\u001b[39m \u001b[39m10\u001b[39m\u001b[39m/\u001b[39m\u001b[39m60\u001b[39m  \u001b[39m# 5 seconds expressed in minutes\u001b[39;00m\n\u001b[1;32m---> <a href='vscode-notebook-cell:/c%3A/Users/joerg/dev/RunningStuff/Auswertung.ipynb#W0sZmlsZQ%3D%3D?line=60'>61</a>\u001b[0m bin_edges \u001b[39m=\u001b[39m \u001b[39mlist\u001b[39m(np\u001b[39m.\u001b[39;49marange(df[\u001b[39m'\u001b[39;49m\u001b[39mAvgSpeed\u001b[39;49m\u001b[39m'\u001b[39;49m]\u001b[39m.\u001b[39;49mmin(), df[\u001b[39m'\u001b[39;49m\u001b[39mAvgSpeed\u001b[39;49m\u001b[39m'\u001b[39;49m]\u001b[39m.\u001b[39;49mmax() \u001b[39m+\u001b[39;49m bin_width, bin_width))\n\u001b[0;32m     <a href='vscode-notebook-cell:/c%3A/Users/joerg/dev/RunningStuff/Auswertung.ipynb#W0sZmlsZQ%3D%3D?line=62'>63</a>\u001b[0m \u001b[39m# Define bin labels: \"0-0:05\", \"0:05-0:10\", ... for indicating speed ranges\u001b[39;00m\n\u001b[0;32m     <a href='vscode-notebook-cell:/c%3A/Users/joerg/dev/RunningStuff/Auswertung.ipynb#W0sZmlsZQ%3D%3D?line=63'>64</a>\u001b[0m bin_labels \u001b[39m=\u001b[39m [\u001b[39mf\u001b[39m\u001b[39m\"\u001b[39m\u001b[39m{\u001b[39;00m\u001b[39mint\u001b[39m(i)\u001b[39m}\u001b[39;00m\u001b[39m:\u001b[39m\u001b[39m{\u001b[39;00m\u001b[39mint\u001b[39m((i\u001b[39m*\u001b[39m\u001b[39m60\u001b[39m)\u001b[39m%\u001b[39m\u001b[39m60\u001b[39m)\u001b[39m:\u001b[39;00m\u001b[39m02d\u001b[39m\u001b[39m}\u001b[39;00m\u001b[39m-\u001b[39m\u001b[39m{\u001b[39;00m\u001b[39mint\u001b[39m(i\u001b[39m+\u001b[39mbin_width)\u001b[39m}\u001b[39;00m\u001b[39m:\u001b[39m\u001b[39m{\u001b[39;00m\u001b[39mint\u001b[39m(((i\u001b[39m+\u001b[39mbin_width)\u001b[39m*\u001b[39m\u001b[39m60\u001b[39m)\u001b[39m%\u001b[39m\u001b[39m60\u001b[39m)\u001b[39m:\u001b[39;00m\u001b[39m02d\u001b[39m\u001b[39m}\u001b[39;00m\u001b[39m\"\u001b[39m \u001b[39mfor\u001b[39;00m i \u001b[39min\u001b[39;00m bin_edges[:\u001b[39m-\u001b[39m\u001b[39m1\u001b[39m]]\n",
      "\u001b[1;31mValueError\u001b[0m: arange: cannot compute length"
     ]
    }
   ],
   "source": [
    "import pandas as pd\n",
    "import matplotlib.pyplot as plt\n",
    "from lxml import etree\n",
    "import seaborn as sns\n",
    "import io\n",
    "import numpy as np\n",
    "from datetime import datetime\n",
    "\n",
    "def convert_to_min_sec(x):\n",
    "    minutes = int(x)\n",
    "    seconds = int((x - minutes) * 60)\n",
    "    return f\"{minutes}:{seconds:02d}\"\n",
    "\n",
    "def map_date_to_quarter(date_str):\n",
    "    # Parse the date string\n",
    "    date = datetime.strptime(date_str, \"%Y-%m-%dT%H:%M:%S.%fZ\") \n",
    "    # Determine the quarter\n",
    "    if 1 <= date.month <= 3:\n",
    "        quarter = \"Q1\"\n",
    "    elif 4 <= date.month <= 6:\n",
    "        quarter = \"Q2\"\n",
    "    elif 7 <= date.month <= 9:\n",
    "        quarter = \"Q3\"\n",
    "    else:\n",
    "        quarter = \"Q4\"\n",
    "    # Return the formatted string\n",
    "    return f\"{date.year} - {quarter}\"\n",
    "\n",
    "\n",
    "namespaces = {\n",
    "    'default': \"http://www.garmin.com/xmlschemas/TrainingCenterDatabase/v2\",\n",
    "    'ns3': \"http://www.garmin.com/xmlschemas/ActivityExtension/v2\",\n",
    "    # Add other namespaces here as needed\n",
    "}\n",
    "\n",
    "with open('merged.tcx', 'rb') as file:\n",
    "    xml_data = file.read()\n",
    "    root = etree.fromstring(xml_data)\n",
    "    \n",
    "data = []\n",
    "for activity in root.findall(\".//default:Activity\", namespaces=namespaces):\n",
    "    if activity.get('Sport') == Sport:\n",
    "        for lap in activity.findall(\".//default:Lap\", namespaces=namespaces):\n",
    "            distance = float(lap.find(\"default:DistanceMeters\", namespaces=namespaces).text)\n",
    "            if distance >= 500:\n",
    "                avg_heart_rate = int(lap.find(\".//default:AverageHeartRateBpm/default:Value\", namespaces=namespaces).text)\n",
    "                max_heart_rate = int(lap.find(\".//default:MaximumHeartRateBpm/default:Value\", namespaces=namespaces).text)\n",
    "                if abs(avg_heart_rate-max_heart_rate)<=8:\n",
    "                    time = lap.get(\"StartTime\")\n",
    "                    if Grouping == 'Monat':\n",
    "                        period = time.split(\"-\")[0] + ' - ' + time.split(\"-\")[1]  # Extracting month and year\n",
    "                    elif Grouping == 'Quartal':\n",
    "                        period = map_date_to_quarter(time)\n",
    "                    avg_speed = lap.find(\".//ns3:AvgSpeed\", namespaces=namespaces).text\n",
    "                    data.append((period, float(avg_speed), int(avg_heart_rate)))\n",
    "\n",
    "# Convert data to DataFrame\n",
    "df = pd.DataFrame(data, columns=[\"Period\", \"AvgSpeed\", \"AvgHeartRateBpm\"])\n",
    "df['AvgSpeed'] = (1/df['AvgSpeed']) * (1000/60)\n",
    "bin_width = 10/60  # 5 seconds expressed in minutes\n",
    "bin_edges = list(np.arange(df['AvgSpeed'].min(), df['AvgSpeed'].max() + bin_width, bin_width))\n",
    "\n",
    "# Define bin labels: \"0-0:05\", \"0:05-0:10\", ... for indicating speed ranges\n",
    "bin_labels = [f\"{int(i)}:{int((i*60)%60):02d}-{int(i+bin_width)}:{int(((i+bin_width)*60)%60):02d}\" for i in bin_edges[:-1]]\n",
    "\n",
    "# Create a new column 'SpeedGroup' to categorize avg speed into bins\n",
    "df['SpeedGroup'] = pd.cut(df['AvgSpeed'], bins=bin_edges, labels=bin_labels, right=False)\n",
    "\n",
    "# Group by the new 'SpeedGroup' and Month, and calculate the mean of the heart rate for each group\n",
    "grouped_df = df.groupby(['SpeedGroup', 'Period']).agg(AvgHeartRateBpm=('AvgHeartRateBpm', 'mean')).reset_index()\n",
    "\n",
    "# Grouping by Month and AvgSpeed and calculating the mean of AvgHeartRateBpm\n",
    "# grouped_df = df.groupby([\"Month\", \"AvgSpeed\"]).mean().reset_index()\n",
    "\n",
    "# Plotting\n",
    "plt.figure(figsize=(30,6))\n",
    "sns.lineplot(data=grouped_df, x='SpeedGroup', y='AvgHeartRateBpm', hue='Period', marker=\"o\")\n",
    "\n",
    "plt.title('AvgSpeed vs AvgHeartRateBpm grouped by Period')\n",
    "plt.xlabel('Average Speed (min/km)')\n",
    "plt.ylabel('Average Heart Rate BPM')\n",
    "plt.legend(title='Period', bbox_to_anchor=(1.05, 1), loc='upper left')\n",
    "\n",
    "# Optional: Invert x-axis if you prefer lower speeds on the right\n",
    "plt.gca().invert_xaxis()\n",
    "\n",
    "plt.tight_layout()\n",
    "plt.show()"
   ]
  }
 ],
 "metadata": {
  "kernelspec": {
   "display_name": "Python 3",
   "language": "python",
   "name": "python3"
  },
  "language_info": {
   "codemirror_mode": {
    "name": "ipython",
    "version": 3
   },
   "file_extension": ".py",
   "mimetype": "text/x-python",
   "name": "python",
   "nbconvert_exporter": "python",
   "pygments_lexer": "ipython3",
   "version": "3.11.3"
  }
 },
 "nbformat": 4,
 "nbformat_minor": 2
}
